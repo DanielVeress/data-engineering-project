{
 "cells": [
  {
   "cell_type": "code",
   "execution_count": 1,
   "id": "c0a35c5a-45f9-41c5-abe8-7c6afdb3a9f4",
   "metadata": {},
   "outputs": [
    {
     "name": "stderr",
     "output_type": "stream",
     "text": [
      "Setting default log level to \"WARN\".\n",
      "To adjust logging level use sc.setLogLevel(newLevel). For SparkR, use setLogLevel(newLevel).\n",
      "25/03/12 15:13:38 WARN NativeCodeLoader: Unable to load native-hadoop library for your platform... using builtin-java classes where applicable\n",
      "25/03/12 15:13:38 WARN Utils: Service 'sparkDriver' could not bind on port 9999. Attempting port 10000.\n",
      "25/03/12 15:13:39 WARN Utils: Service 'SparkUI' could not bind on port 4040. Attempting port 4041.\n",
      "25/03/12 15:13:39 WARN Utils: Service 'org.apache.spark.network.netty.NettyBlockTransferService' could not bind on port 10005. Attempting port 10006.\n"
     ]
    }
   ],
   "source": [
    "import re\n",
    "import json\n",
    "from pyspark.sql import SparkSession\n",
    "from operator import add\n",
    "from pyspark.sql.types import StructType, StructField, StringType, LongType\n",
    "from pyspark.sql.functions import udf, col, size\n",
    "from pyspark.sql.types import FloatType, ArrayType\n",
    "import re\n",
    "from vaderSentiment.vaderSentiment import SentimentIntensityAnalyzer\n",
    "\n",
    "spark_session = SparkSession.builder\\\n",
    "        .master(\"spark://spark-master:7077\") \\\n",
    "        .appName(\"test_run_with_vader\")\\\n",
    "        .config(\"spark.dynamicAllocation.enabled\", True)\\\n",
    "        .config(\"spark.dynamicAllocation.shuffleTracking.enabled\",True)\\\n",
    "        .config(\"spark.shuffle.service.enabled\", False)\\\n",
    "        .config(\"spark.dynamicAllocation.executorIdleTimeout\",\"30s\")\\\n",
    "        .config(\"spark.executor.cores\", 16)\\\n",
    "        .config(\"spark.driver.port\",9999)\\\n",
    "        .config(\"spark.blockManager.port\",10005)\\\n",
    "        .getOrCreate()\n",
    "\n",
    "# RDD API\n",
    "spark_context = spark_session.sparkContext\n",
    "spark_context.setLogLevel(\"ERROR\")"
   ]
  },
  {
   "cell_type": "code",
   "execution_count": 2,
   "id": "ed890df8-6fbe-44c4-a366-17e07f95ad10",
   "metadata": {},
   "outputs": [],
   "source": [
    "DATA_PATH = 'data/reddit.json'\n",
    "lines = spark_context.textFile(f\"hdfs://spark-master:9000/{DATA_PATH}\")\n",
    "parsed_rdd = lines.map(lambda line: json.loads(line))\n",
    "\n",
    "custom_schema = StructType([\n",
    "    StructField(\"content\", StringType(), True),          # Comment text\n",
    "    StructField(\"summary\", StringType(), True),     # Timestamp\n",
    "    StructField(\"author\", StringType(), True),        # Username\n",
    "    StructField(\"subreddit\", StringType(), True)      # Subreddit name\n",
    "])\n",
    "\n",
    "df = spark_session.createDataFrame(parsed_rdd, schema=custom_schema)"
   ]
  },
  {
   "cell_type": "code",
   "execution_count": 3,
   "id": "d986c4f1-1180-4635-9e4b-a1b287836efc",
   "metadata": {},
   "outputs": [],
   "source": [
    "tech_tickers = [\n",
    "    \"AAPL\",  # Apple Inc.\n",
    "    \"MSFT\",  # Microsoft Corporation\n",
    "    \"GOOGL\", \"GOOG\",  # Alphabet Inc. (Google)\n",
    "    \"AMZN\",  # Amazon.com Inc.\n",
    "    \"META\",  # Meta Platforms Inc. (Facebook)\n",
    "    \"NVDA\",  # NVIDIA Corporation\n",
    "    \"TSLA\",  # Tesla Inc.\n",
    "    \"INTC\",  # Intel Corporation\n",
    "    \"AMD\",  # Advanced Micro Devices Inc.\n",
    "    \"IBM\",  # International Business Machines\n",
    "    \"CSCO\",  # Cisco Systems Inc.\n",
    "    \"ORCL\",  # Oracle Corporation\n",
    "    \"NFLX\",  # Netflix Inc.\n",
    "    \"ADBE\",  # Adobe Inc.\n",
    "    \"CRM\",  # Salesforce Inc.\n",
    "    \"PLTR\"  # Palantir Technologies Inc.\n",
    "]"
   ]
  },
  {
   "cell_type": "code",
   "execution_count": 4,
   "id": "3d1c436b-3638-4f05-84a4-2bf02ccac73e",
   "metadata": {},
   "outputs": [],
   "source": [
    "# Convert the list to a set for faster lookups\n",
    "tech_tickers_set = set(tech_tickers)\n",
    "\n",
    "# Define the UDF\n",
    "def extract_tech_tickers(text):\n",
    "    import re\n",
    "    if not text:\n",
    "        return []\n",
    "    # Split text into words and clean them\n",
    "    words = re.findall(r'\\b\\w+\\b', text.upper())  # Split into words, ignoring punctuation\n",
    "    # Check if cleaned word is in the ticker list\n",
    "    found_tickers = []\n",
    "    for word in words:\n",
    "        cleaned_word = re.sub(r'[^A-Z]', '', word)  # Remove non-alphabetic characters\n",
    "        if cleaned_word in tech_tickers_set:\n",
    "            found_tickers.append(cleaned_word)\n",
    "    return list(set(found_tickers))  # Deduplicate\n",
    "\n",
    "# Register the UDF\n",
    "extract_tickers_udf = udf(extract_tech_tickers, ArrayType(StringType()))"
   ]
  },
  {
   "cell_type": "code",
   "execution_count": 5,
   "id": "d86b2b19-cbb6-4df6-8863-1c672585a183",
   "metadata": {},
   "outputs": [],
   "source": [
    "# Apply UDF to the \"content\" column and filter rows with tickers\n",
    "df = df.withColumn(\"tickers\", extract_tickers_udf(col(\"content\"))) \\\n",
    "       .filter(size(col(\"tickers\")) > 0)\n",
    "\n",
    "#df.show(5)"
   ]
  },
  {
   "cell_type": "code",
   "execution_count": 25,
   "id": "3bc078a7-cbeb-4067-90bc-ac87cdaedf10",
   "metadata": {},
   "outputs": [],
   "source": [
    "# adding wsb/reddit flavour to vader to improve sentiment analysis, score: 4.0 to -4.0\n",
    "new_words = {\n",
    "    'citron': -4.0,  \n",
    "    'hidenburg': -4.0,        \n",
    "    'moon': 4.0,\n",
    "    'highs': 2.0,\n",
    "    'mooning': 4.0,\n",
    "    'long': 2.0,\n",
    "    'short': -2.0,\n",
    "    'call': 4.0,\n",
    "    'calls': 4.0,    \n",
    "    'put': -4.0,\n",
    "    'puts': -4.0,    \n",
    "    'break': 2.0,\n",
    "    'tendie': 2.0,\n",
    "     'tendies': 2.0,\n",
    "     'town': 2.0,     \n",
    "     'overvalued': -3.0,\n",
    "     'undervalued': 3.0,\n",
    "     'buy': 4.0,\n",
    "     'sell': -4.0,\n",
    "     'gone': -1.0,\n",
    "     'gtfo': -1.7,\n",
    "     'paper': -1.7,\n",
    "     'bullish': 3.7,\n",
    "     'bearish': -3.7,\n",
    "     'bagholder': -1.7,\n",
    "     'stonk': 1.9,\n",
    "     'green': 1.9,\n",
    "     'money': 1.2,\n",
    "     'print': 2.2,\n",
    "     'rocket': 2.2,\n",
    "     'bull': 4.0,\n",
    "     'bear': -4.0,\n",
    "     'pumping': -1.0,\n",
    "     'sus': -3.0,\n",
    "     'offering': -2.3,\n",
    "     'rip': -4.0,\n",
    "     'downgrade': -3.0,\n",
    "     'upgrade': 3.0,     \n",
    "     'maintain': 1.0,          \n",
    "     'pump': 1.9,\n",
    "     'hot': 1.5,\n",
    "     'drop': -2.5,\n",
    "     'rebound': 1.5,  \n",
    "     'crack': 2.5,\n",
    "    'gang': 2.0,\n",
    "     'scam': -2.0,\n",
    "    'chamath': -2.0,\n",
    "     'snake': -2.0,\n",
    "    'squezze': 3.0,\n",
    "     'bag': -4.0,\n",
    "     'fly': 2.0,     \n",
    "     'way': 2.0,     \n",
    "     'high': 2.0,\n",
    "     'volume': 2.5,\n",
    "     'low': -2.0,\n",
    "     'trending': 3.0,\n",
    "     'upwards': 3.0,\n",
    "     'prediction': 1.0,     \n",
    "     'cult': -1.0,     \n",
    "    'big': 2.0,}"
   ]
  },
  {
   "cell_type": "code",
   "execution_count": 26,
   "id": "a87ac79d-4f80-4c57-9360-29da6d2d4610",
   "metadata": {},
   "outputs": [],
   "source": [
    "analyzer = SentimentIntensityAnalyzer()\n",
    "analyzer.lexicon.update(new_words)\n",
    "\n",
    "def custom_sentiment(text):\n",
    "    if not text:\n",
    "        return 0.0\n",
    "    words = text.lower().split()\n",
    "    positive = sum(1 for word in words if word in positive_words)\n",
    "    negative = sum(1 for word in words if word in negative_words)\n",
    "    return (positive - negative) / max(len(words), 1)  # Normalize by text length\n",
    "\n",
    "def custom_sentiment_vader(text):\n",
    "    if not text:\n",
    "        return 0.0\n",
    "    vs = analyzer.polarity_scores(text)\n",
    "    return vs['compound']\n",
    "\n",
    "sentiment_udf = udf(custom_sentiment_vader, FloatType())"
   ]
  },
  {
   "cell_type": "code",
   "execution_count": 27,
   "id": "d01a0c5d-8992-4b5b-b46b-5bb5f294851b",
   "metadata": {},
   "outputs": [
    {
     "name": "stderr",
     "output_type": "stream",
     "text": [
      "[Stage 11:>                                                         (0 + 1) / 1]"
     ]
    },
    {
     "name": "stdout",
     "output_type": "stream",
     "text": [
      "+--------------------+--------------------+----------------+---------------+-------+---------+\n",
      "|             content|             summary|          author|      subreddit|tickers|sentiment|\n",
      "+--------------------+--------------------+----------------+---------------+-------+---------+\n",
      "|Yeah, but at leas...|all those people ...|         Draoken|leagueoflegends| [META]|  -0.9743|\n",
      "|Well, your proble...|Try some graphic ...|        Zircon88|      AskReddit|  [AMD]|   0.7273|\n",
      "|As a mental healt...|Anxiety is about ...| CthulhuFerrigno|       business| [META]|  -0.9121|\n",
      "|w/o a full time J...|no roaming pressu...|       koochbrah|          Smite| [META]|  -0.5423|\n",
      "|Who is going to s...|It's a good strat...|TheSystem_IsDown|      investing| [AAPL]|   0.9502|\n",
      "+--------------------+--------------------+----------------+---------------+-------+---------+\n",
      "only showing top 5 rows\n",
      "\n"
     ]
    },
    {
     "name": "stderr",
     "output_type": "stream",
     "text": [
      "                                                                                "
     ]
    }
   ],
   "source": [
    "df = df.withColumn(\"sentiment\", sentiment_udf(col(\"content\")))\n",
    "\n",
    "df.show(5)"
   ]
  },
  {
   "cell_type": "code",
   "execution_count": 28,
   "id": "916d0474-1432-46fe-b59a-0cee04069e28",
   "metadata": {},
   "outputs": [
    {
     "name": "stderr",
     "output_type": "stream",
     "text": [
      "[Stage 12:>                                                         (0 + 1) / 1]"
     ]
    },
    {
     "name": "stdout",
     "output_type": "stream",
     "text": [
      "+--------------------+--------------------+----------------+---------------+-------+---------+------+\n",
      "|             content|             summary|          author|      subreddit|tickers|sentiment|ticker|\n",
      "+--------------------+--------------------+----------------+---------------+-------+---------+------+\n",
      "|Yeah, but at leas...|all those people ...|         Draoken|leagueoflegends| [META]|  -0.9743|  META|\n",
      "|Well, your proble...|Try some graphic ...|        Zircon88|      AskReddit|  [AMD]|   0.7273|   AMD|\n",
      "|As a mental healt...|Anxiety is about ...| CthulhuFerrigno|       business| [META]|  -0.9121|  META|\n",
      "|w/o a full time J...|no roaming pressu...|       koochbrah|          Smite| [META]|  -0.5423|  META|\n",
      "|Who is going to s...|It's a good strat...|TheSystem_IsDown|      investing| [AAPL]|   0.9502|  AAPL|\n",
      "+--------------------+--------------------+----------------+---------------+-------+---------+------+\n",
      "only showing top 5 rows\n",
      "\n"
     ]
    },
    {
     "name": "stderr",
     "output_type": "stream",
     "text": [
      "                                                                                "
     ]
    }
   ],
   "source": [
    "from pyspark.sql.functions import explode, avg\n",
    "df_exploded = df.withColumn(\"ticker\", explode(col(\"tickers\")))\n",
    "\n",
    "df_exploded.show(5)"
   ]
  },
  {
   "cell_type": "code",
   "execution_count": 17,
   "id": "b61483ce-5c3d-42f5-b985-99b39a975055",
   "metadata": {},
   "outputs": [
    {
     "name": "stderr",
     "output_type": "stream",
     "text": [
      "                                                                                "
     ]
    },
    {
     "data": {
      "text/plain": [
       "30179"
      ]
     },
     "execution_count": 17,
     "metadata": {},
     "output_type": "execute_result"
    }
   ],
   "source": [
    "df.count()"
   ]
  },
  {
   "cell_type": "code",
   "execution_count": 16,
   "id": "434ef885-cb5f-4bd8-a465-372cc73f5d50",
   "metadata": {},
   "outputs": [
    {
     "name": "stderr",
     "output_type": "stream",
     "text": [
      "                                                                                "
     ]
    },
    {
     "data": {
      "text/plain": [
       "30302"
      ]
     },
     "execution_count": 16,
     "metadata": {},
     "output_type": "execute_result"
    }
   ],
   "source": [
    "df_exploded.count()"
   ]
  },
  {
   "cell_type": "code",
   "execution_count": 29,
   "id": "ce11dcec-edc4-4fbd-8148-4db27cd9e016",
   "metadata": {},
   "outputs": [
    {
     "name": "stderr",
     "output_type": "stream",
     "text": [
      "[Stage 15:>                                                         (0 + 1) / 1]"
     ]
    },
    {
     "name": "stdout",
     "output_type": "stream",
     "text": [
      "{'AAPL': 0.5836389836997299, 'META': 0.5297901868084792, 'NFLX': 0.5964411812670091, 'IBM': 0.5179890592761042, 'GOOGL': 0.1990650027990341, 'AMD': 0.501339153038441, 'MSFT': 0.601711627236719, 'CRM': 0.6178565219941745, 'GOOG': 0.5116988465018656, 'TSLA': 0.7375812468429407, 'INTC': 0.9812666773796082, 'NVDA': 0.8032249882817268, 'AMZN': 0.7046749964356422, 'ADBE': 0.1604500114917755, 'CSCO': -0.20226001739501953, 'ORCL': 0.9957999885082245}\n"
     ]
    },
    {
     "name": "stderr",
     "output_type": "stream",
     "text": [
      "                                                                                "
     ]
    }
   ],
   "source": [
    "# average the scores\n",
    "scores_df = df_exploded.groupBy(\"ticker\").agg(avg(\"sentiment\").alias(\"avg_sentiment\"))\n",
    "\n",
    "# transform to dictionary\n",
    "scores = {row[\"ticker\"]: row[\"avg_sentiment\"] for row in scores_df.collect()}\n",
    "\n",
    "print(scores)"
   ]
  },
  {
   "cell_type": "code",
   "execution_count": 30,
   "id": "5bd33284-5f01-48f7-bc5e-6a1625c4eb14",
   "metadata": {},
   "outputs": [
    {
     "data": {
      "image/png": "[encoded data removed]",
      "text/plain": [
       "<Figure size 1000x600 with 1 Axes>"
      ]
     },
     "metadata": {},
     "output_type": "display_data"
    }
   ],
   "source": [
    "import matplotlib.pyplot as plt\n",
    "sorted_scores = dict(sorted(scores.items(), key=lambda item: item[1]))\n",
    "\n",
    "# extract tickers and the corresponding score\n",
    "tickers = list(sorted_scores.keys())\n",
    "sentiments = list(sorted_scores.values())\n",
    "\n",
    "# positive: green, negtive: red\n",
    "colors = [\"green\" if score > 0 else \"red\" for score in sentiments]\n",
    "\n",
    "# plot bar graph\n",
    "plt.figure(figsize=(10, 6))\n",
    "bars = plt.barh(tickers, sentiments, color=colors)\n",
    "\n",
    "for bar in bars:\n",
    "    plt.text(bar.get_width(), bar.get_y() + bar.get_height()/2, \n",
    "             f'{bar.get_width():.2f}', va='center', ha='left', fontsize=10)\n",
    "\n",
    "plt.xlabel(\"Average Sentiment Score\")\n",
    "plt.ylabel(\"Stock Ticker\")\n",
    "plt.title(\"Stock Sentiment Analysis\")\n",
    "plt.grid(axis=\"x\", linestyle=\"--\", alpha=0.7)\n",
    "plt.show()"
   ]
  },
  {
   "cell_type": "code",
   "execution_count": 31,
   "id": "2a3f60a4-74ad-4f4c-ac91-4e80efcc4eea",
   "metadata": {},
   "outputs": [],
   "source": [
    "spark_session.stop()"
   ]
  },
  {
   "cell_type": "code",
   "execution_count": null,
   "id": "7b966cef-34a0-44c4-989c-be2cbf58e471",
   "metadata": {},
   "outputs": [],
   "source": []
  }
 ],
 "metadata": {
  "kernelspec": {
   "display_name": "Python 3 (ipykernel)",
   "language": "python",
   "name": "python3"
  },
  "language_info": {
   "codemirror_mode": {
    "name": "ipython",
    "version": 3
   },
   "file_extension": ".py",
   "mimetype": "text/x-python",
   "name": "python",
   "nbconvert_exporter": "python",
   "pygments_lexer": "ipython3",
   "version": "3.10.12"
  }
 },
 "nbformat": 4,
 "nbformat_minor": 5
}
